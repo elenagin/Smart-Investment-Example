{
 "cells": [
  {
   "cell_type": "markdown",
   "metadata": {},
   "source": [
    "# Welcome to SmartInvestment.com \n",
    "Our company sells investment funds tailored to maximise results and minimise risk. Our star fund is called FAANG+_forever."
   ]
  },
  {
   "cell_type": "markdown",
   "metadata": {},
   "source": [
    "### About FAANG+_forever\n",
    "If we take a look into the market data of each one of these we can find out how well we are performaing. Stocks included are from META, NFLX, APPL, TSLA, GOOGL, AAMZ."
   ]
  },
  {
   "cell_type": "code",
   "execution_count": 12,
   "metadata": {},
   "outputs": [],
   "source": [
    "#Importing packages\n",
    "import numpy as np\n",
    "import pandas as pd\n",
    "from datetime import datetime\n",
    "import seaborn as sns\n",
    "import matplotlib.pyplot as plt"
   ]
  },
  {
   "cell_type": "code",
   "execution_count": 76,
   "metadata": {},
   "outputs": [],
   "source": [
    "#Importing dataframes\n",
    "df_appl = pd.concat([pd.read_csv('market_data/AAPL_2.csv', parse_dates=['Date'], ), pd.read_csv('market_data/AAPL_1.csv', parse_dates=['Date'])], ignore_index=True)\n",
    "df_amzn = pd.concat([pd.read_csv('market_data/AMZN_2.csv', parse_dates=['Date'], ), pd.read_csv('market_data/AMZN_1.csv', parse_dates=['Date'])], ignore_index=True)\n",
    "df_goog = pd.concat([pd.read_csv('market_data/GOOGL_2.csv', parse_dates=['Date'], ), pd.read_csv('market_data/GOOGL_1.csv', parse_dates=['Date'])], ignore_index=True)\n",
    "df_meta = pd.concat([pd.read_csv('market_data/META_2.csv', parse_dates=['Date'], ), pd.read_csv('market_data/META_1.csv', parse_dates=['Date'])], ignore_index=True)\n",
    "df_nflx = pd.concat([pd.read_csv('market_data/NFLX_2.csv', parse_dates=['Date'], ), pd.read_csv('market_data/NFLX_1.csv', parse_dates=['Date'])], ignore_index=True)\n",
    "df_spx = pd.concat([pd.read_csv('market_data/SPX_2.csv', parse_dates=['Date'], ), pd.read_csv('market_data/SPX_1.csv', parse_dates=['Date'])], ignore_index=True)\n",
    "df_tsla = pd.concat([pd.read_csv('market_data/TSLA_2.csv', parse_dates=['Date'], ), pd.read_csv('market_data/TSLA_1.csv', parse_dates=['Date'])], ignore_index=True)\n",
    "\n",
    "#Parsing dates\n",
    "df_appl['Date'] = pd.to_datetime(df_appl['Date'], utc=True).dt.date\n",
    "df_amzn['Date'] = pd.to_datetime(df_amzn['Date'], utc=True).dt.date\n",
    "df_goog['Date'] = pd.to_datetime(df_goog['Date'], utc=True).dt.date\n",
    "df_meta['Date'] = pd.to_datetime(df_meta['Date'], utc=True).dt.date\n",
    "df_nflx['Date'] = pd.to_datetime(df_nflx['Date'], utc=True).dt.date\n",
    "df_spx['Date'] = pd.to_datetime(df_spx['Date'], utc=True).dt.date\n",
    "df_tsla['Date'] = pd.to_datetime(df_tsla['Date'], utc=True).dt.date"
   ]
  },
  {
   "cell_type": "code",
   "execution_count": 75,
   "metadata": {},
   "outputs": [
    {
     "name": "stdout",
     "output_type": "stream",
     "text": [
      "<class 'pandas.core.frame.DataFrame'>\n",
      "RangeIndex: 227 entries, 0 to 226\n",
      "Data columns (total 8 columns):\n",
      " #   Column        Non-Null Count  Dtype  \n",
      "---  ------        --------------  -----  \n",
      " 0   Date          227 non-null    object \n",
      " 1   Open          227 non-null    float64\n",
      " 2   High          227 non-null    float64\n",
      " 3   Low           227 non-null    float64\n",
      " 4   Close         227 non-null    float64\n",
      " 5   Volume        227 non-null    int64  \n",
      " 6   Dividends     227 non-null    float64\n",
      " 7   Stock Splits  227 non-null    float64\n",
      "dtypes: float64(6), int64(1), object(1)\n",
      "memory usage: 14.3+ KB\n"
     ]
    }
   ],
   "source": []
  },
  {
   "cell_type": "code",
   "execution_count": null,
   "metadata": {},
   "outputs": [],
   "source": []
  }
 ],
 "metadata": {
  "kernelspec": {
   "display_name": "Python 3",
   "language": "python",
   "name": "python3"
  },
  "language_info": {
   "codemirror_mode": {
    "name": "ipython",
    "version": 3
   },
   "file_extension": ".py",
   "mimetype": "text/x-python",
   "name": "python",
   "nbconvert_exporter": "python",
   "pygments_lexer": "ipython3",
   "version": "3.10.1"
  }
 },
 "nbformat": 4,
 "nbformat_minor": 2
}
